{
 "cells": [
  {
   "attachments": {},
   "cell_type": "markdown",
   "id": "bf0a36bd",
   "metadata": {},
   "source": [
    "## This notebook is for the development of the function get_boundary_matrix:\n",
    " ***This function returns the matrix boundary before reduction***"
   ]
  },
  {
   "cell_type": "code",
   "execution_count": 1,
   "id": "e3d1d139",
   "metadata": {},
   "outputs": [],
   "source": [
    "import numpy as np\n",
    "import gudhi as gd\n",
    "import matplotlib.pyplot as plt\n",
    "from scipy.sparse import lil_matrix"
   ]
  },
  {
   "attachments": {},
   "cell_type": "markdown",
   "id": "6f06fe0f",
   "metadata": {},
   "source": [
    "### Class: \n"
   ]
  },
  {
   "cell_type": "code",
   "execution_count": 9,
   "id": "15fe0636",
   "metadata": {},
   "outputs": [],
   "source": [
    "class SimplexTree(gd.SimplexTree):\n",
    "    \n",
    "    def get_boundary_matrix(self, sparse=False):\n",
    "        \n",
    "        \"\"\"\n",
    "        This function returns the matrix boundary before reduction.\n",
    "\n",
    "        :param sparse: Indicate if the returned matrix should be sparse or dense.\n",
    "        :param homology_coeff_field: The homology coefficient field. Must be a prime number. Default value is 2.\n",
    "        :returns: The boundary matrix in sparse format by default.\n",
    "        \"\"\"\n",
    "\n",
    "        filtration=self.get_filtration()  \n",
    "        filtration_list=list(filtration)\n",
    "        dim=len(filtration_list) # Dimension of the boundary matrix\n",
    "        dics={} # Dictionary to store each simplex and corresponding index \n",
    "\n",
    "        # Initialize the matrix boundary based on whether sparse is True or False\n",
    "        if sparse:\n",
    "            Matrice_bord = lil_matrix((dim, dim), dtype=int) \n",
    "        else:\n",
    "            Matrice_bord = np.zeros((dim, dim), dtype=int) \n",
    "\n",
    "        for i, (smpx,_) in  enumerate(filtration_list): # loop through the simplex and its order of apparition\n",
    "            dics[tuple(smpx)]=i   # assign an index to each simplex in the filtration\n",
    "            sign= 1 - 2 * (len(smpx) % 2) # \\in {-1,1} provides the sign in the  alternate sum in the boundary.\n",
    "            for n, _ in self.get_boundaries(smpx):\n",
    "                index = dics.get(tuple(n))\n",
    "                Matrice_bord[index, i] = sign\n",
    "                sign = -sign  # alternate the sign moving into the next boundary of the simplex\n",
    "\n",
    "        if sparse:\n",
    "            Matrice_bord = Matrice_bord.tocsr() # Convert the boundary matrix to compressed sparse format if sparse is True\n",
    "\n",
    "        return Matrice_bord"
   ]
  },
  {
   "cell_type": "code",
   "execution_count": 2,
   "id": "4b2ae4ba",
   "metadata": {},
   "outputs": [
    {
     "data": {
      "text/plain": [
       "True"
      ]
     },
     "execution_count": 2,
     "metadata": {},
     "output_type": "execute_result"
    }
   ],
   "source": [
    "st=gd.SimplexTree()\n",
    "st.insert([0])\n",
    "st.insert([1],0.01)\n",
    "st.insert([2],0.02)\n",
    "st.insert([3],0.03)\n",
    "st.insert([1,3],0.04)\n",
    "st.insert([5],0.05)\n",
    "st.insert([6],0.06)\n",
    "st.insert([7],0.07)\n",
    "st.insert([8],0.08)\n",
    "st.insert([1,8],0.09)\n",
    "st.insert([1,7],0.10)\n",
    "st.insert([11],0.11)\n",
    "st.insert([12],0.12)\n",
    "st.insert([8,11],0.13)\n",
    "st.insert([11,12],0.14)\n",
    "st.insert([3,12],0.15)\n",
    "st.insert([7,12],0.16)\n",
    "st.insert([3,11],0.17)\n",
    "st.insert([3,11,12],0.18)\n",
    "st.insert([0,12],0.19)\n",
    "st.insert([0,7],0.20)\n",
    "st.insert([6,7],0.205)\n",
    "st.insert([3,7],0.21)\n",
    "st.insert([1,3,7],0.22)\n",
    "st.insert([0,7,12],0.23)\n",
    "st.insert([3,8],0.24)\n",
    "st.insert([3,7,12],0.25)\n",
    "st.insert([1,3,8],26)\n",
    "st.insert([3,8,11],27)\n",
    "st.insert([2,5],28)\n",
    "st.insert([5,6],29)\n",
    "st.insert([2,6],30)\n",
    "st.insert([2,5,6],31)"
   ]
  },
  {
   "cell_type": "code",
   "execution_count": 3,
   "id": "8de87d24",
   "metadata": {},
   "outputs": [],
   "source": [
    "def get_boundary_matrix(self, sparse=False):\n",
    "\n",
    "        filtration=self.get_filtration()  \n",
    "        filtration_list=list(filtration)\n",
    "        dim=len(filtration_list) # Dimension of the boundary matrix\n",
    "        dics={} # Dictionary to store each simplex and corresponding index \n",
    "\n",
    "        # Initialize the matrix boundary based on whether sparse is True or False\n",
    "        if sparse:\n",
    "            Matrice_bord = lil_matrix((dim, dim), dtype=int) \n",
    "        else:\n",
    "            Matrice_bord = np.zeros((dim, dim), dtype=int) \n",
    "\n",
    "        for i, (smpx,_) in  enumerate(filtration_list): #loop through the simplex and its order of apparition\n",
    "            dics[tuple(smpx)]=i   # assign an index to each simplex in the filtration\n",
    "            sign= 1 - 2 * (len(smpx) % 2)  # Depending on the cohomology, the sign will altern with 1 for pair symplex and -1 for impair\n",
    "            for n, _ in self.get_boundaries(smpx): \n",
    "                index = dics.get(tuple(n))\n",
    "                Matrice_bord[index, i] = sign\n",
    "                sign = -sign # altern the sign regarding the direction in the simplex\n",
    "\n",
    "        if sparse:\n",
    "            Matrice_bord = Matrice_bord.tocsr() # Convert the boundary matrix to compressed sparse format if sparse is True\n",
    "\n",
    "        return Matrice_bord"
   ]
  },
  {
   "cell_type": "code",
   "execution_count": 4,
   "id": "b63301ac",
   "metadata": {},
   "outputs": [],
   "source": [
    "test_unitaire=get_boundary_matrix(st)"
   ]
  },
  {
   "cell_type": "code",
   "execution_count": 5,
   "id": "24791cae",
   "metadata": {},
   "outputs": [],
   "source": [
    "def find_indices_modified(matrix):\n",
    "    indices_dict = {}\n",
    "    for col_idx, column in enumerate(matrix.T):\n",
    "        indices_1 = [i for i, val in enumerate(column) if val == 1]\n",
    "        indices_minus_1 = [i for i, val in enumerate(column) if val == -1]\n",
    "        indices_dict[col_idx] = {'1': indices_1, '-1': indices_minus_1}\n",
    "    return indices_dict\n"
   ]
  },
  {
   "cell_type": "code",
   "execution_count": 6,
   "id": "6e794794",
   "metadata": {},
   "outputs": [
    {
     "data": {
      "text/plain": [
       "{0: {'1': [], '-1': []},\n",
       " 1: {'1': [], '-1': []},\n",
       " 2: {'1': [], '-1': []},\n",
       " 3: {'1': [], '-1': []},\n",
       " 4: {'1': [1], '-1': [3]},\n",
       " 5: {'1': [], '-1': []},\n",
       " 6: {'1': [], '-1': []},\n",
       " 7: {'1': [], '-1': []},\n",
       " 8: {'1': [], '-1': []},\n",
       " 9: {'1': [1], '-1': [8]},\n",
       " 10: {'1': [1], '-1': [7]},\n",
       " 11: {'1': [], '-1': []},\n",
       " 12: {'1': [], '-1': []},\n",
       " 13: {'1': [8], '-1': [11]},\n",
       " 14: {'1': [11], '-1': [12]},\n",
       " 15: {'1': [3], '-1': [12]},\n",
       " 16: {'1': [7], '-1': [12]},\n",
       " 17: {'1': [3], '-1': [11]},\n",
       " 18: {'1': [15], '-1': [14, 17]},\n",
       " 19: {'1': [0], '-1': [12]},\n",
       " 20: {'1': [0], '-1': [7]},\n",
       " 21: {'1': [6], '-1': [7]},\n",
       " 22: {'1': [3], '-1': [7]},\n",
       " 23: {'1': [10], '-1': [4, 22]},\n",
       " 24: {'1': [19], '-1': [16, 20]},\n",
       " 25: {'1': [3], '-1': [8]},\n",
       " 26: {'1': [15], '-1': [16, 22]},\n",
       " 27: {'1': [9], '-1': [4, 25]},\n",
       " 28: {'1': [17], '-1': [13, 25]},\n",
       " 29: {'1': [2], '-1': [5]},\n",
       " 30: {'1': [5], '-1': [6]},\n",
       " 31: {'1': [2], '-1': [6]},\n",
       " 32: {'1': [31], '-1': [29, 30]}}"
      ]
     },
     "execution_count": 6,
     "metadata": {},
     "output_type": "execute_result"
    }
   ],
   "source": [
    "find_indices_modified(test_unitaire)"
   ]
  },
  {
   "cell_type": "code",
   "execution_count": 8,
   "id": "93bc5b5b",
   "metadata": {},
   "outputs": [
    {
     "data": {
      "image/png": "[encoded data removed]",
      "text/plain": [
       "<Figure size 800x800 with 1 Axes>"
      ]
     },
     "metadata": {},
     "output_type": "display_data"
    }
   ],
   "source": [
    "import matplotlib.pyplot as plt\n",
    "import numpy as np\n",
    "\n",
    "dense_matrix = test_unitaire\n",
    "\n",
    "# Create a bigger figure with a grid-like structure\n",
    "fig, ax = plt.subplots(figsize=(8, 8))\n",
    "ax.set_aspect('equal')\n",
    "ax.set_facecolor('lightgray')\n",
    "\n",
    "# Plot the dense matrix with a grayscale colormap\n",
    "ax.imshow(dense_matrix, cmap='gray')\n",
    "\n",
    "# Get the indices where the values are +1 and -1\n",
    "indices_1 = np.argwhere(dense_matrix == 1)\n",
    "indices_minus_1 = np.argwhere(dense_matrix == -1)\n",
    "indices_0 = np.argwhere(dense_matrix == 0)\n",
    "\n",
    "# Highlight the positions of +1 and -1 values with black and white squares, respectively\n",
    "ax.plot(indices_1[:, 1], indices_1[:, 0], 's', markersize=12, label='+1', color='black')\n",
    "ax.plot(indices_minus_1[:, 1], indices_minus_1[:, 0], 's', markersize=12, label='-1', color='white')\n",
    "ax.plot(indices_0[:, 1], indices_0[:, 0], 's', markersize=12, label='0', color='gray')\n",
    "\n",
    "# Add gridlines\n",
    "ax.set_xticks(np.arange(dense_matrix.shape[1]+1)-0.5, minor=True)\n",
    "ax.set_yticks(np.arange(dense_matrix.shape[0]+1)-0.5, minor=True)\n",
    "ax.grid(which='minor', color='black', linestyle='-', linewidth=1)\n",
    "\n",
    "# Set the tick labels and remove ticks\n",
    "ax.set_xticks(np.arange(dense_matrix.shape[1]))\n",
    "ax.set_yticks(np.arange(dense_matrix.shape[0]))\n",
    "ax.set_xticklabels(np.arange(0, dense_matrix.shape[1] ))\n",
    "ax.set_yticklabels(np.arange(0, dense_matrix.shape[0] ))\n",
    "ax.tick_params(bottom=False, left=False)\n",
    "\n",
    "# Add a legend\n",
    "ax.legend(loc=3, fontsize=10)\n",
    "\n",
    "# Set the title\n",
    "ax.set_title('Boundary Matrix')\n",
    "\n",
    "# Show the plot\n",
    "plt.tight_layout()\n",
    "plt.savefig('image', bbox_inches='tight')\n",
    "\n",
    "plt.show()\n",
    "\n"
   ]
  },
  {
   "cell_type": "code",
   "execution_count": null,
   "id": "b42b2534",
   "metadata": {},
   "outputs": [],
   "source": []
  }
 ],
 "metadata": {
  "kernelspec": {
   "display_name": "Python 3 (ipykernel)",
   "language": "python",
   "name": "python3"
  },
  "language_info": {
   "codemirror_mode": {
    "name": "ipython",
    "version": 3
   },
   "file_extension": ".py",
   "mimetype": "text/x-python",
   "name": "python",
   "nbconvert_exporter": "python",
   "pygments_lexer": "ipython3",
   "version": "3.9.6"
  }
 },
 "nbformat": 4,
 "nbformat_minor": 5
}
